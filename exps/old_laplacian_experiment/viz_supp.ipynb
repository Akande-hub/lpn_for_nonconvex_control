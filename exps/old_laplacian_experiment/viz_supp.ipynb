{
 "cells": [
  {
   "cell_type": "code",
   "execution_count": null,
   "metadata": {},
   "outputs": [],
   "source": [
    "import os\n",
    "import numpy as np\n",
    "import matplotlib.pyplot as plt\n",
    "import seaborn as sns\n",
    "\n",
    "from utils import gt_cvx, soft_thr\n",
    "\n",
    "sns.set_theme()\n",
    "sns.set_context(\"paper\")\n",
    "\n",
    "experiment_dir = \"./experiments/\"\n",
    "fig_dir = os.path.join(experiment_dir, \"figures\")\n",
    "os.makedirs(fig_dir, exist_ok=True)"
   ]
  },
  {
   "cell_type": "code",
   "execution_count": null,
   "metadata": {},
   "outputs": [],
   "source": [
    "RESULTS_DIR = \"experiments/results/\"\n",
    "NORMALIZE = True  # normalize the offset\n",
    "\n",
    "model2file = {\n",
    "    \"L2\": \"l2\",\n",
    "    \"L1\": \"l1\",\n",
    "    \"PM_0.5\": \"l_0.5\",\n",
    "    \"PM_0.4\": \"l_0.4\",\n",
    "    \"PM_0.3\": \"l_0.3\",\n",
    "    \"PM_0.2\": \"l_0.2\",\n",
    "    \"PM_0.1\": \"l_0.1\",\n",
    "}\n",
    "\n",
    "model2label = {\n",
    "    \"L2\": r\"$\\ell_2$\",\n",
    "    \"L1\": r\"$\\ell_1$\",\n",
    "    \"PM_0.5\": r\"$\\mathcal{L}_{PM}, \\gamma=0.5$\",\n",
    "    \"PM_0.4\": r\"$\\mathcal{L}_{PM}, \\gamma=0.4$\",\n",
    "    \"PM_0.3\": r\"$\\mathcal{L}_{PM}, \\gamma=0.3$\",\n",
    "    \"PM_0.2\": r\"$\\mathcal{L}_{PM}, \\gamma=0.2$\",\n",
    "    \"PM_0.1\": r\"$\\mathcal{L}_{PM}, \\gamma=0.1$\",\n",
    "}\n",
    "\n",
    "model_list = [\"L2\", \"L1\", \"PM_0.5\", \"PM_0.3\", \"PM_0.1\"]\n",
    "\n",
    "x_dict = {}\n",
    "y_dict = {}\n",
    "c_dict = {}\n",
    "p_dict = {}\n",
    "for m in model_list:\n",
    "    results = np.load(\n",
    "        os.path.join(RESULTS_DIR, model2file[m] + \".npy\"), allow_pickle=True\n",
    "    ).item()\n",
    "    x_dict[m] = results[\"x\"]\n",
    "    y_dict[m] = results[\"y\"]\n",
    "    c_dict[m] = results[\"c\"]\n",
    "    p_dict[m] = results[\"p\"]"
   ]
  },
  {
   "cell_type": "code",
   "execution_count": null,
   "metadata": {},
   "outputs": [],
   "source": [
    "if NORMALIZE:\n",
    "    for m in model_list:\n",
    "        c_dict[m] = c_dict[m] - np.min(c_dict[m])\n",
    "        p_dict[m] = p_dict[m] - np.min(p_dict[m])"
   ]
  },
  {
   "cell_type": "markdown",
   "metadata": {},
   "source": [
    "## Plot"
   ]
  },
  {
   "cell_type": "code",
   "execution_count": null,
   "metadata": {},
   "outputs": [],
   "source": [
    "def plot(x, y, c, p, lb, fig, axes, i):\n",
    "    axes = axes[:, i]\n",
    "    # learned prox\n",
    "    ax = axes[0]\n",
    "    ax.plot(x, y, label=\"LPN\")\n",
    "    ax.plot(x, soft_thr(x), \"--\", label=r\"$prox_{|\\cdot|}$\", zorder=1.9)\n",
    "    ax.set_title(lb)\n",
    "    if i == 0:\n",
    "        ax.legend()\n",
    "\n",
    "    # convex function\n",
    "    ax = axes[1]\n",
    "    ax.plot(x, c, label=\"LPN\")\n",
    "    ax.plot(x, gt_cvx(x), \"--\", label=\"Reference\", zorder=1.9)\n",
    "    if i == 0:\n",
    "        ax.legend()\n",
    "\n",
    "    # original function\n",
    "    ax = axes[2]\n",
    "    ax.plot(x, p, label=\"LPN\")\n",
    "    # L1\n",
    "    ax.plot(x, np.abs(x), \"--\", label=r\"$|\\cdot|$\", zorder=1.9)\n",
    "    if i == 0:\n",
    "        ax.legend()"
   ]
  },
  {
   "cell_type": "code",
   "execution_count": null,
   "metadata": {},
   "outputs": [],
   "source": [
    "nc, nr = len(model_list), 3\n",
    "figw = 9\n",
    "figh = figw / nc * nr / 2 * 2.3\n",
    "fig, axes = plt.subplots(nr, nc, sharex=True, sharey=\"row\", figsize=(figw, figh))\n",
    "for i, m in enumerate(model_list):\n",
    "    plot(x_dict[m], y_dict[m], c_dict[m], p_dict[m], model2label[m], fig, axes, i)\n",
    "\n",
    "# add vertical title\n",
    "for i, t in zip(\n",
    "    range(nr),\n",
    "    [\n",
    "        r\"Learned proximal $f_\\theta$\",\n",
    "        r\"Convex potential $\\psi_\\theta$\",\n",
    "        r\"Log-prior $R_\\theta$\",\n",
    "    ],\n",
    "):\n",
    "    ax = axes[i, 0]\n",
    "    ax.annotate(\n",
    "        t,\n",
    "        xy=(-0.2, 0.5),\n",
    "        xycoords=\"axes fraction\",\n",
    "        ha=\"right\",\n",
    "        va=\"center\",\n",
    "        rotation=90,\n",
    "    )\n",
    "\n",
    "axes[2, 2].set_xlabel(r\"$x$\")\n",
    "\n",
    "\n",
    "sns.despine()\n",
    "fig.tight_layout()\n",
    "\n",
    "fig.savefig(os.path.join(fig_dir, \"laplacian_supp.pdf\"), bbox_inches=\"tight\")\n",
    "fig.show()"
   ]
  },
  {
   "cell_type": "code",
   "execution_count": null,
   "metadata": {},
   "outputs": [],
   "source": []
  }
 ],
 "metadata": {
  "kernelspec": {
   "display_name": "lpn",
   "language": "python",
   "name": "python3"
  },
  "language_info": {
   "codemirror_mode": {
    "name": "ipython",
    "version": 3
   },
   "file_extension": ".py",
   "mimetype": "text/x-python",
   "name": "python",
   "nbconvert_exporter": "python",
   "pygments_lexer": "ipython3",
   "version": "3.9.16"
  }
 },
 "nbformat": 4,
 "nbformat_minor": 2
}
