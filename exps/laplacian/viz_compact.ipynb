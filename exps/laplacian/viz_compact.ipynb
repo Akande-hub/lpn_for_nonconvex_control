{
 "cells": [
  {
   "cell_type": "code",
   "execution_count": null,
   "metadata": {},
   "outputs": [],
   "source": [
    "import os\n",
    "import numpy as np\n",
    "import matplotlib.pyplot as plt\n",
    "import seaborn as sns\n",
    "\n",
    "from utils import gt_cvx, soft_thr\n",
    "\n",
    "sns.set_theme()\n",
    "sns.set_context(\"paper\")\n",
    "\n",
    "\n",
    "experiment_dir = \"./experiments/\"\n",
    "fig_dir = os.path.join(experiment_dir, \"figures\")\n",
    "os.makedirs(fig_dir, exist_ok=True)"
   ]
  },
  {
   "cell_type": "code",
   "execution_count": null,
   "metadata": {},
   "outputs": [],
   "source": [
    "RESULTS_DIR = \"experiments/results/\"\n",
    "NORMALIZE = True  # normalize the offset\n",
    "\n",
    "model2file = {\n",
    "    \"L2\": \"l2\",\n",
    "    \"L1\": \"l1\",\n",
    "    \"PM_0.5\": \"l_0.5\",\n",
    "    \"PM_0.4\": \"l_0.4\",\n",
    "    \"PM_0.3\": \"l_0.3\",\n",
    "    \"PM_0.2\": \"l_0.2\",\n",
    "    \"PM_0.1\": \"l_0.1\",\n",
    "}\n",
    "\n",
    "model2label = {\n",
    "    \"L2\": r\"$\\ell_2$\",\n",
    "    \"L1\": r\"$\\ell_1$\",\n",
    "    \"PM_0.5\": r\"$\\mathcal{L}_{PM}, \\gamma=0.5$\",\n",
    "    \"PM_0.4\": r\"$\\mathcal{L}_{PM}, \\gamma=0.4$\",\n",
    "    \"PM_0.3\": r\"$\\mathcal{L}_{PM}, \\gamma=0.3$\",\n",
    "    \"PM_0.2\": r\"$\\mathcal{L}_{PM}, \\gamma=0.2$\",\n",
    "    \"PM_0.1\": r\"$\\mathcal{L}_{PM}, \\gamma=0.1$\",\n",
    "}\n",
    "\n",
    "model_list = [\"L2\", \"L1\", \"PM_0.5\", \"PM_0.3\", \"PM_0.1\"]\n",
    "\n",
    "x_dict = {}\n",
    "y_dict = {}\n",
    "c_dict = {}\n",
    "p_dict = {}\n",
    "for m in model_list:\n",
    "    results = np.load(\n",
    "        os.path.join(RESULTS_DIR, model2file[m] + \".npy\"), allow_pickle=True\n",
    "    ).item()\n",
    "    x_dict[m] = results[\"x\"]\n",
    "    y_dict[m] = results[\"y\"]\n",
    "    c_dict[m] = results[\"c\"]\n",
    "    p_dict[m] = results[\"p\"]"
   ]
  },
  {
   "cell_type": "code",
   "execution_count": null,
   "metadata": {},
   "outputs": [],
   "source": [
    "if NORMALIZE:\n",
    "    for m in model_list:\n",
    "        c_dict[m] = c_dict[m] - np.min(c_dict[m])\n",
    "        p_dict[m] = p_dict[m] - np.min(p_dict[m])"
   ]
  },
  {
   "cell_type": "code",
   "execution_count": null,
   "metadata": {},
   "outputs": [],
   "source": [
    "# set x limit\n",
    "xlim = [-3.5, 3.5]\n",
    "\n",
    "for m in model_list:\n",
    "    idx = np.argwhere((x_dict[m] > xlim[0]) & (x_dict[m] < xlim[1]))[:, 0]\n",
    "    x_dict[m] = x_dict[m][idx]\n",
    "    y_dict[m] = y_dict[m][idx]\n",
    "    c_dict[m] = c_dict[m][idx]\n",
    "    p_dict[m] = p_dict[m][idx]"
   ]
  },
  {
   "cell_type": "markdown",
   "metadata": {},
   "source": [
    "## Plot"
   ]
  },
  {
   "cell_type": "code",
   "execution_count": null,
   "metadata": {},
   "outputs": [],
   "source": [
    "sns.set_palette(sns.color_palette([\"tab:blue\", \"tab:orange\", \"tab:green\", \"#84817A\"]))"
   ]
  },
  {
   "cell_type": "code",
   "execution_count": null,
   "metadata": {},
   "outputs": [],
   "source": [
    "# Create a figure with 1 row, 3 columns\n",
    "# columns 1-3: learned prox, convex function, original function\n",
    "fig, axes = plt.subplots(1, 3, sharex=True, figsize=(7, 2.9))\n",
    "\n",
    "# learned prox, L2, L1, and PM\n",
    "ax = axes[0]\n",
    "for i, (model, lb) in enumerate(\n",
    "    zip([\"L2\", \"L1\", \"PM_0.1\"], [r\"$\\ell_2$\", r\"$\\ell_1$\", r\"$\\mathcal{L}_{PM}$\"])\n",
    "):\n",
    "    x = x_dict[model]\n",
    "    y = y_dict[model]\n",
    "    ax.plot(x, y, label=lb)\n",
    "ax.plot(x, soft_thr(x), \"--\", label=r\"$prox_{|\\cdot|}$\")\n",
    "ax.legend(loc=\"upper left\", fontsize=\"small\")\n",
    "ax.set_title(r\"Learned proximal $f_\\theta$\")\n",
    "\n",
    "# convex function, L2, L1, and PM\n",
    "ax = axes[1]\n",
    "\n",
    "for i, (model, lb) in enumerate(\n",
    "    zip([\"L2\", \"L1\", \"PM_0.1\"], [r\"$\\ell_2$\", r\"$\\ell_1$\", r\"$\\mathcal{L}_{PM}$\"])\n",
    "):\n",
    "    x = x_dict[model]\n",
    "    c = c_dict[model]\n",
    "    ax.plot(x, c, label=lb)\n",
    "ax.plot(x, gt_cvx(x), \"--\", label=\"Reference\")\n",
    "ax.legend(loc=\"upper center\", fontsize=\"small\")\n",
    "ax.set_title(r\"Convex potential $\\psi_\\theta$\")\n",
    "\n",
    "# original function, L2, L1, and PM\n",
    "ax = axes[2]\n",
    "for i, (model, lb) in enumerate(\n",
    "    zip([\"L2\", \"L1\", \"PM_0.1\"], [r\"$\\ell_2$\", r\"$\\ell_1$\", r\"$\\mathcal{L}_{PM}$\"])\n",
    "):\n",
    "    x = x_dict[model]\n",
    "    p = p_dict[model]\n",
    "    ax.plot(x, p, label=lb)\n",
    "ax.plot(x, np.abs(x), \"--\", label=r\"$|\\cdot|$\")\n",
    "ax.legend(loc=\"upper center\", fontsize=\"small\")\n",
    "ax.set_title(r\"Log-prior $R_\\theta$\")\n",
    "\n",
    "axes[1].set_xlabel(r\"$x$\")\n",
    "\n",
    "sns.despine()\n",
    "fig.tight_layout()\n",
    "\n",
    "fig.savefig(os.path.join(fig_dir, \"laplacian_compact.pdf\"), bbox_inches=\"tight\")\n",
    "fig.savefig(\n",
    "    os.path.join(fig_dir, \"laplacian_compact.png\"), bbox_inches=\"tight\", dpi=300\n",
    ")\n",
    "fig.show()"
   ]
  },
  {
   "cell_type": "code",
   "execution_count": null,
   "metadata": {},
   "outputs": [],
   "source": []
  }
 ],
 "metadata": {
  "kernelspec": {
   "display_name": "lpn",
   "language": "python",
   "name": "python3"
  },
  "language_info": {
   "codemirror_mode": {
    "name": "ipython",
    "version": 3
   },
   "file_extension": ".py",
   "mimetype": "text/x-python",
   "name": "python",
   "nbconvert_exporter": "python",
   "pygments_lexer": "ipython3",
   "version": "3.9.16"
  }
 },
 "nbformat": 4,
 "nbformat_minor": 2
}
