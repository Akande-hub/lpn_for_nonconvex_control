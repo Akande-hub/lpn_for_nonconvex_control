{
 "cells": [
  {
   "cell_type": "code",
   "execution_count": null,
   "metadata": {},
   "outputs": [],
   "source": [
    "import numpy as np\n",
    "import torch\n",
    "import os\n",
    "import glob\n",
    "\n",
    "from network import LPN\n",
    "from utils import prox, cvx, prior\n",
    "\n",
    "device = torch.device(\"cuda:0\" if torch.cuda.is_available() else \"cpu\")"
   ]
  },
  {
   "cell_type": "code",
   "execution_count": null,
   "metadata": {},
   "outputs": [],
   "source": [
    "X_MIN = -4\n",
    "X_MAX = 4\n",
    "N = 100\n",
    "\n",
    "MODEL_DIR = \"experiments/models/\"\n",
    "RESULTS_DIR = \"experiments/results/\"\n",
    "\n",
    "os.makedirs(RESULTS_DIR, exist_ok=True)"
   ]
  },
  {
   "cell_type": "code",
   "execution_count": null,
   "metadata": {},
   "outputs": [],
   "source": [
    "lpn_model = LPN(in_dim=1, hidden=50, layers=4, beta=10)\n",
    "lpn_model.to(device)\n",
    "\n",
    "for file in glob.glob(os.path.join(MODEL_DIR, \"*.pth\")):\n",
    "    print(\"Running:\", file)\n",
    "    lpn_model.load_state_dict(torch.load(file))\n",
    "    lpn_model.eval()\n",
    "\n",
    "    x = np.linspace(X_MIN, X_MAX, N)\n",
    "    y = prox(x, lpn_model)\n",
    "    c = cvx(x, lpn_model)\n",
    "    p = prior(x, lpn_model)\n",
    "\n",
    "    np.save(\n",
    "        os.path.join(RESULTS_DIR, os.path.basename(file)[:-4] + \".npy\"),\n",
    "        {\"x\": x, \"y\": y, \"c\": c, \"p\": p},\n",
    "    )"
   ]
  },
  {
   "cell_type": "code",
   "execution_count": null,
   "metadata": {},
   "outputs": [],
   "source": []
  }
 ],
 "metadata": {
  "kernelspec": {
   "display_name": "lpn",
   "language": "python",
   "name": "python3"
  },
  "language_info": {
   "codemirror_mode": {
    "name": "ipython",
    "version": 3
   },
   "file_extension": ".py",
   "mimetype": "text/x-python",
   "name": "python",
   "nbconvert_exporter": "python",
   "pygments_lexer": "ipython3",
   "version": "3.9.16"
  }
 },
 "nbformat": 4,
 "nbformat_minor": 2
}
