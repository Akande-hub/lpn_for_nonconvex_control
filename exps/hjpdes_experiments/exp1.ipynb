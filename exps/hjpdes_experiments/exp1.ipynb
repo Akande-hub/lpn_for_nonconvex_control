{
 "cells": [
  {
   "cell_type": "markdown",
   "id": "3c7c9e4e-73ef-4c57-92de-254b50c016e0",
   "metadata": {},
   "source": [
    "Experiment with the initial data: J = -|.| (negative absolute value)"
   ]
  },
  {
   "cell_type": "code",
   "execution_count": 2,
   "id": "bdd45b0a-ab93-4c86-aacd-9c289df5446f",
   "metadata": {},
   "outputs": [
    {
     "data": {
      "text/plain": [
       "<torch._C.Generator at 0x10835c070>"
      ]
     },
     "execution_count": 2,
     "metadata": {},
     "output_type": "execute_result"
    }
   ],
   "source": [
    "import torch\n",
    "import numpy as np\n",
    "import matplotlib.pyplot as plt\n",
    "import os\n",
    "import seaborn as sns\n",
    "\n",
    "from network import LPN\n",
    "from utils import prox, cvx, prior, gt_cvx, soft_thr\n",
    "\n",
    "sns.set()\n",
    "\n",
    "MODEL_DIR = \"experiments/models/\"\n",
    "os.makedirs(MODEL_DIR, exist_ok=True)\n",
    "\n",
    "device = torch.device(\"cuda:0\" if torch.cuda.is_available() else \"cpu\")\n",
    "\n",
    "# set seed\n",
    "np.random.seed(1)\n",
    "torch.manual_seed(1)"
   ]
  },
  {
   "cell_type": "markdown",
   "id": "850583e6-bab2-4a98-988e-e26baf7b69a7",
   "metadata": {},
   "source": [
    "Data preparation"
   ]
  },
  {
   "cell_type": "code",
   "execution_count": null,
   "id": "8fb3e584-6415-4098-99bb-dff5b5fdc6ff",
   "metadata": {},
   "outputs": [],
   "source": [
    "dim = 1"
   ]
  },
  {
   "cell_type": "code",
   "execution_count": null,
   "id": "da462f86-0f8a-431b-85bc-06eaa3a13460",
   "metadata": {},
   "outputs": [],
   "source": [
    "# Sample data points from Laplacian distribution:\n",
    "# exp(-|x|/b) / (2b)\n",
    "def sample_laplace(n, b):\n",
    "    \"\"\"\n",
    "    Inputs:\n",
    "        n: number of points\n",
    "        b: scale parameter of the Laplacian distribution\n",
    "    Outputs:\n",
    "        x: a vector of n points, torch.tensor\n",
    "    \"\"\"\n",
    "    x = torch.distributions.laplace.Laplace(0, b).sample((n,))\n",
    "    return x\n",
    "\n",
    "\n",
    "class LaplaceSampler(object):\n",
    "    def __init__(self, b):\n",
    "        self.b = b\n",
    "\n",
    "    def __call__(self, n):\n",
    "        return sample_laplace(n, self.b)\n",
    "\n",
    "\n",
    "b = 1.0\n",
    "dist = torch.distributions.laplace.Laplace(0, b)\n",
    "x = LaplaceSampler(b)(10000)\n",
    "# plot pdf, log-likelihood, cdf\n",
    "plt.rcParams[\"figure.figsize\"] = (8, 2)\n",
    "x = torch.linspace(-1, 1, 100)\n",
    "plt.subplot(1, 4, 1)\n",
    "plt.plot(x, dist.log_prob(x).exp())\n",
    "plt.title(\"PDF\")\n",
    "plt.subplot(1, 4, 2)\n",
    "plt.plot(x, dist.log_prob(x))\n",
    "plt.title(\"Log-likelihood\")\n",
    "plt.subplot(1, 4, 3)\n",
    "plt.plot(x, dist.cdf(x))\n",
    "plt.title(\"CDF\")\n",
    "plt.subplot(1, 4, 4)\n",
    "plt.hist(sample_laplace(10000, b), bins=100)\n",
    "plt.title(\"Histogram\")\n",
    "plt.suptitle(\"Laplace distribution\")\n",
    "plt.tight_layout()"
   ]
  },
  {
   "cell_type": "code",
   "execution_count": null,
   "id": "20910fd4-befb-4f8f-8bf3-1db35a34cee8",
   "metadata": {},
   "outputs": [],
   "source": [
    "# Add noise to the data\n",
    "def add_noise(x, sigma=0.1):\n",
    "    \"\"\"\n",
    "    Inputs:\n",
    "        x: a vector of n points, torch.tensor\n",
    "        sigma: standard deviation of the noise\n",
    "    Outputs:\n",
    "        x: a vector of n points, torch.tensor\n",
    "    \"\"\"\n",
    "    noise = torch.randn_like(x) * sigma\n",
    "    return x + noise"
   ]
  },
  {
   "cell_type": "code",
   "execution_count": null,
   "id": "07120a89-46a6-4c09-8d23-a75d1354f75e",
   "metadata": {},
   "outputs": [],
   "source": [
    "# parameters for laplace distribution\n",
    "b = 1\n",
    "sigma_noise = 1\n",
    "sampler = LaplaceSampler(b)"
   ]
  },
  {
   "cell_type": "code",
   "execution_count": null,
   "id": "b97950bd-bb35-4ec6-a8e3-cf9e91a1e2ee",
   "metadata": {},
   "outputs": [],
   "source": [
    "# example training points\n",
    "target = sampler(200).unsqueeze(1)\n",
    "input = add_noise(target, sigma_noise)\n",
    "plt.rcParams[\"figure.figsize\"] = (3, 3)\n",
    "plt.scatter(input, target, s=10, facecolors=\"none\", edgecolors=\"tab:blue\")\n",
    "plt.grid(\"on\")\n",
    "plt.title(\"Example training points\")"
   ]
  }
 ],
 "metadata": {
  "kernelspec": {
   "display_name": "Python 3 (ipykernel)",
   "language": "python",
   "name": "python3"
  },
  "language_info": {
   "codemirror_mode": {
    "name": "ipython",
    "version": 3
   },
   "file_extension": ".py",
   "mimetype": "text/x-python",
   "name": "python",
   "nbconvert_exporter": "python",
   "pygments_lexer": "ipython3",
   "version": "3.9.16"
  }
 },
 "nbformat": 4,
 "nbformat_minor": 5
}
